{
  "nbformat": 4,
  "nbformat_minor": 0,
  "metadata": {
    "colab": {
      "name": "football_player.ipynb",
      "provenance": [],
      "mount_file_id": "1oSzLcj_byK2NiJSwkCAVnzz86x2np5jC",
      "authorship_tag": "ABX9TyN2TH/K/NNpMibvhwa3Iw7V",
      "include_colab_link": true
    },
    "kernelspec": {
      "name": "python3",
      "display_name": "Python 3"
    }
  },
  "cells": [
    {
      "cell_type": "markdown",
      "metadata": {
        "id": "view-in-github",
        "colab_type": "text"
      },
      "source": [
        "<a href=\"https://colab.research.google.com/github/harjeevansingh/Football_player_worth_prediction/blob/master/football_player.ipynb\" target=\"_parent\"><img src=\"https://colab.research.google.com/assets/colab-badge.svg\" alt=\"Open In Colab\"/></a>"
      ]
    },
    {
      "cell_type": "code",
      "metadata": {
        "id": "r_upZ8Az9sW2"
      },
      "source": [
        "# Importing Libraries\n",
        "import pandas as pd\n",
        "import numpy as np\n",
        "import seaborn as sns\n",
        "from matplotlib import pyplot as plt\n"
      ],
      "execution_count": 2,
      "outputs": []
    },
    {
      "cell_type": "code",
      "metadata": {
        "id": "PZKmUk9g-JCb",
        "outputId": "ac8327ca-770f-4f5b-9cf8-f137ea3e7260",
        "colab": {
          "base_uri": "https://localhost:8080/",
          "height": 206
        }
      },
      "source": [
        "# Loading Datasets\n",
        "data = pd.read_csv(\"/content/drive/My Drive/productivity/datasets/football_players.csv\")\n",
        "data.head()"
      ],
      "execution_count": 3,
      "outputs": [
        {
          "output_type": "execute_result",
          "data": {
            "text/html": [
              "<div>\n",
              "<style scoped>\n",
              "    .dataframe tbody tr th:only-of-type {\n",
              "        vertical-align: middle;\n",
              "    }\n",
              "\n",
              "    .dataframe tbody tr th {\n",
              "        vertical-align: top;\n",
              "    }\n",
              "\n",
              "    .dataframe thead th {\n",
              "        text-align: right;\n",
              "    }\n",
              "</style>\n",
              "<table border=\"1\" class=\"dataframe\">\n",
              "  <thead>\n",
              "    <tr style=\"text-align: right;\">\n",
              "      <th></th>\n",
              "      <th>name</th>\n",
              "      <th>club</th>\n",
              "      <th>age</th>\n",
              "      <th>position</th>\n",
              "      <th>position_cat</th>\n",
              "      <th>market_value</th>\n",
              "      <th>page_views</th>\n",
              "      <th>fpl_value</th>\n",
              "      <th>fpl_sel</th>\n",
              "      <th>fpl_points</th>\n",
              "      <th>region</th>\n",
              "      <th>nationality</th>\n",
              "      <th>new_foreign</th>\n",
              "      <th>age_cat</th>\n",
              "      <th>club_id</th>\n",
              "      <th>big_club</th>\n",
              "      <th>new_signing</th>\n",
              "    </tr>\n",
              "  </thead>\n",
              "  <tbody>\n",
              "    <tr>\n",
              "      <th>0</th>\n",
              "      <td>Alexis Sanchez</td>\n",
              "      <td>Arsenal</td>\n",
              "      <td>28</td>\n",
              "      <td>LW</td>\n",
              "      <td>1</td>\n",
              "      <td>65.0</td>\n",
              "      <td>4329</td>\n",
              "      <td>12.0</td>\n",
              "      <td>17.10%</td>\n",
              "      <td>264</td>\n",
              "      <td>3.0</td>\n",
              "      <td>Chile</td>\n",
              "      <td>0</td>\n",
              "      <td>4</td>\n",
              "      <td>1</td>\n",
              "      <td>1</td>\n",
              "      <td>0</td>\n",
              "    </tr>\n",
              "    <tr>\n",
              "      <th>1</th>\n",
              "      <td>Mesut Ozil</td>\n",
              "      <td>Arsenal</td>\n",
              "      <td>28</td>\n",
              "      <td>AM</td>\n",
              "      <td>1</td>\n",
              "      <td>50.0</td>\n",
              "      <td>4395</td>\n",
              "      <td>9.5</td>\n",
              "      <td>5.60%</td>\n",
              "      <td>167</td>\n",
              "      <td>2.0</td>\n",
              "      <td>Germany</td>\n",
              "      <td>0</td>\n",
              "      <td>4</td>\n",
              "      <td>1</td>\n",
              "      <td>1</td>\n",
              "      <td>0</td>\n",
              "    </tr>\n",
              "    <tr>\n",
              "      <th>2</th>\n",
              "      <td>Petr Cech</td>\n",
              "      <td>Arsenal</td>\n",
              "      <td>35</td>\n",
              "      <td>GK</td>\n",
              "      <td>4</td>\n",
              "      <td>7.0</td>\n",
              "      <td>1529</td>\n",
              "      <td>5.5</td>\n",
              "      <td>5.90%</td>\n",
              "      <td>134</td>\n",
              "      <td>2.0</td>\n",
              "      <td>Czech Republic</td>\n",
              "      <td>0</td>\n",
              "      <td>6</td>\n",
              "      <td>1</td>\n",
              "      <td>1</td>\n",
              "      <td>0</td>\n",
              "    </tr>\n",
              "    <tr>\n",
              "      <th>3</th>\n",
              "      <td>Theo Walcott</td>\n",
              "      <td>Arsenal</td>\n",
              "      <td>28</td>\n",
              "      <td>RW</td>\n",
              "      <td>1</td>\n",
              "      <td>20.0</td>\n",
              "      <td>2393</td>\n",
              "      <td>7.5</td>\n",
              "      <td>1.50%</td>\n",
              "      <td>122</td>\n",
              "      <td>1.0</td>\n",
              "      <td>England</td>\n",
              "      <td>0</td>\n",
              "      <td>4</td>\n",
              "      <td>1</td>\n",
              "      <td>1</td>\n",
              "      <td>0</td>\n",
              "    </tr>\n",
              "    <tr>\n",
              "      <th>4</th>\n",
              "      <td>Laurent Koscielny</td>\n",
              "      <td>Arsenal</td>\n",
              "      <td>31</td>\n",
              "      <td>CB</td>\n",
              "      <td>3</td>\n",
              "      <td>22.0</td>\n",
              "      <td>912</td>\n",
              "      <td>6.0</td>\n",
              "      <td>0.70%</td>\n",
              "      <td>121</td>\n",
              "      <td>2.0</td>\n",
              "      <td>France</td>\n",
              "      <td>0</td>\n",
              "      <td>4</td>\n",
              "      <td>1</td>\n",
              "      <td>1</td>\n",
              "      <td>0</td>\n",
              "    </tr>\n",
              "  </tbody>\n",
              "</table>\n",
              "</div>"
            ],
            "text/plain": [
              "                name     club  age  ... club_id  big_club  new_signing\n",
              "0     Alexis Sanchez  Arsenal   28  ...       1         1            0\n",
              "1         Mesut Ozil  Arsenal   28  ...       1         1            0\n",
              "2          Petr Cech  Arsenal   35  ...       1         1            0\n",
              "3       Theo Walcott  Arsenal   28  ...       1         1            0\n",
              "4  Laurent Koscielny  Arsenal   31  ...       1         1            0\n",
              "\n",
              "[5 rows x 17 columns]"
            ]
          },
          "metadata": {
            "tags": []
          },
          "execution_count": 3
        }
      ]
    },
    {
      "cell_type": "code",
      "metadata": {
        "id": "snEAHhraT8db"
      },
      "source": [
        "output_var = 'market_value'"
      ],
      "execution_count": 4,
      "outputs": []
    },
    {
      "cell_type": "markdown",
      "metadata": {
        "id": "Df7T6NC4_Y8_"
      },
      "source": [
        "<h2> Exploring the dataset"
      ]
    },
    {
      "cell_type": "code",
      "metadata": {
        "id": "OYJXP819U2yq"
      },
      "source": [
        "X = data[data.columns[~data.columns.isin([output_var])]]\n",
        "y = data[output_var]\n",
        "\n",
        "from sklearn.model_selection import train_test_split\n",
        "np.random.seed(13)  # setting seed\n",
        "x_train, x_test = train_test_split(X, test_size=0.25)\n",
        "\n",
        "y_train = y.loc[x_train.index.values]\n",
        "y_test = y.loc[x_test.index.values]\n",
        "x_train = X.loc[x_train.index.values,:]\n",
        "x_test = X.loc[x_test.index.values,:]"
      ],
      "execution_count": 5,
      "outputs": []
    },
    {
      "cell_type": "code",
      "metadata": {
        "id": "XJXoRwA9YV3O"
      },
      "source": [
        "df = pd.concat([x_train, y_train], axis=1)"
      ],
      "execution_count": 6,
      "outputs": []
    },
    {
      "cell_type": "code",
      "metadata": {
        "id": "fuCIuH8X-RgJ",
        "outputId": "50a84d0c-4062-401d-a87a-66e1e7d3a7ff",
        "colab": {
          "base_uri": "https://localhost:8080/"
        }
      },
      "source": [
        "df.shape"
      ],
      "execution_count": 7,
      "outputs": [
        {
          "output_type": "execute_result",
          "data": {
            "text/plain": [
              "(345, 17)"
            ]
          },
          "metadata": {
            "tags": []
          },
          "execution_count": 7
        }
      ]
    },
    {
      "cell_type": "code",
      "metadata": {
        "id": "-MInxx-a_KNS",
        "outputId": "42a582a1-a1c7-4a29-d1d1-1d733c51b08a",
        "colab": {
          "base_uri": "https://localhost:8080/"
        }
      },
      "source": [
        "df.dtypes"
      ],
      "execution_count": 8,
      "outputs": [
        {
          "output_type": "execute_result",
          "data": {
            "text/plain": [
              "name             object\n",
              "club             object\n",
              "age               int64\n",
              "position         object\n",
              "position_cat      int64\n",
              "page_views        int64\n",
              "fpl_value       float64\n",
              "fpl_sel          object\n",
              "fpl_points        int64\n",
              "region          float64\n",
              "nationality      object\n",
              "new_foreign       int64\n",
              "age_cat           int64\n",
              "club_id           int64\n",
              "big_club          int64\n",
              "new_signing       int64\n",
              "market_value    float64\n",
              "dtype: object"
            ]
          },
          "metadata": {
            "tags": []
          },
          "execution_count": 8
        }
      ]
    },
    {
      "cell_type": "code",
      "metadata": {
        "id": "tkObNEMJ-uvo",
        "outputId": "65b6bb53-7fc7-424d-d3fd-1710fe0eb19d",
        "colab": {
          "base_uri": "https://localhost:8080/",
          "height": 432
        }
      },
      "source": [
        "df.describe(include='all')"
      ],
      "execution_count": 9,
      "outputs": [
        {
          "output_type": "execute_result",
          "data": {
            "text/html": [
              "<div>\n",
              "<style scoped>\n",
              "    .dataframe tbody tr th:only-of-type {\n",
              "        vertical-align: middle;\n",
              "    }\n",
              "\n",
              "    .dataframe tbody tr th {\n",
              "        vertical-align: top;\n",
              "    }\n",
              "\n",
              "    .dataframe thead th {\n",
              "        text-align: right;\n",
              "    }\n",
              "</style>\n",
              "<table border=\"1\" class=\"dataframe\">\n",
              "  <thead>\n",
              "    <tr style=\"text-align: right;\">\n",
              "      <th></th>\n",
              "      <th>name</th>\n",
              "      <th>club</th>\n",
              "      <th>age</th>\n",
              "      <th>position</th>\n",
              "      <th>position_cat</th>\n",
              "      <th>page_views</th>\n",
              "      <th>fpl_value</th>\n",
              "      <th>fpl_sel</th>\n",
              "      <th>fpl_points</th>\n",
              "      <th>region</th>\n",
              "      <th>nationality</th>\n",
              "      <th>new_foreign</th>\n",
              "      <th>age_cat</th>\n",
              "      <th>club_id</th>\n",
              "      <th>big_club</th>\n",
              "      <th>new_signing</th>\n",
              "      <th>market_value</th>\n",
              "    </tr>\n",
              "  </thead>\n",
              "  <tbody>\n",
              "    <tr>\n",
              "      <th>count</th>\n",
              "      <td>345</td>\n",
              "      <td>345</td>\n",
              "      <td>345.000000</td>\n",
              "      <td>345</td>\n",
              "      <td>345.000000</td>\n",
              "      <td>345.000000</td>\n",
              "      <td>345.000000</td>\n",
              "      <td>345</td>\n",
              "      <td>345.000000</td>\n",
              "      <td>344.000000</td>\n",
              "      <td>345</td>\n",
              "      <td>345.000000</td>\n",
              "      <td>345.000000</td>\n",
              "      <td>345.00000</td>\n",
              "      <td>345.000000</td>\n",
              "      <td>345.000000</td>\n",
              "      <td>345.000000</td>\n",
              "    </tr>\n",
              "    <tr>\n",
              "      <th>unique</th>\n",
              "      <td>345</td>\n",
              "      <td>20</td>\n",
              "      <td>NaN</td>\n",
              "      <td>13</td>\n",
              "      <td>NaN</td>\n",
              "      <td>NaN</td>\n",
              "      <td>NaN</td>\n",
              "      <td>93</td>\n",
              "      <td>NaN</td>\n",
              "      <td>NaN</td>\n",
              "      <td>56</td>\n",
              "      <td>NaN</td>\n",
              "      <td>NaN</td>\n",
              "      <td>NaN</td>\n",
              "      <td>NaN</td>\n",
              "      <td>NaN</td>\n",
              "      <td>NaN</td>\n",
              "    </tr>\n",
              "    <tr>\n",
              "      <th>top</th>\n",
              "      <td>Lucas Perez</td>\n",
              "      <td>Arsenal</td>\n",
              "      <td>NaN</td>\n",
              "      <td>CB</td>\n",
              "      <td>NaN</td>\n",
              "      <td>NaN</td>\n",
              "      <td>NaN</td>\n",
              "      <td>0.10%</td>\n",
              "      <td>NaN</td>\n",
              "      <td>NaN</td>\n",
              "      <td>England</td>\n",
              "      <td>NaN</td>\n",
              "      <td>NaN</td>\n",
              "      <td>NaN</td>\n",
              "      <td>NaN</td>\n",
              "      <td>NaN</td>\n",
              "      <td>NaN</td>\n",
              "    </tr>\n",
              "    <tr>\n",
              "      <th>freq</th>\n",
              "      <td>1</td>\n",
              "      <td>22</td>\n",
              "      <td>NaN</td>\n",
              "      <td>68</td>\n",
              "      <td>NaN</td>\n",
              "      <td>NaN</td>\n",
              "      <td>NaN</td>\n",
              "      <td>53</td>\n",
              "      <td>NaN</td>\n",
              "      <td>NaN</td>\n",
              "      <td>115</td>\n",
              "      <td>NaN</td>\n",
              "      <td>NaN</td>\n",
              "      <td>NaN</td>\n",
              "      <td>NaN</td>\n",
              "      <td>NaN</td>\n",
              "      <td>NaN</td>\n",
              "    </tr>\n",
              "    <tr>\n",
              "      <th>mean</th>\n",
              "      <td>NaN</td>\n",
              "      <td>NaN</td>\n",
              "      <td>26.805797</td>\n",
              "      <td>NaN</td>\n",
              "      <td>2.205797</td>\n",
              "      <td>758.057971</td>\n",
              "      <td>5.376812</td>\n",
              "      <td>NaN</td>\n",
              "      <td>55.255072</td>\n",
              "      <td>2.026163</td>\n",
              "      <td>NaN</td>\n",
              "      <td>0.026087</td>\n",
              "      <td>3.202899</td>\n",
              "      <td>10.53913</td>\n",
              "      <td>0.301449</td>\n",
              "      <td>0.150725</td>\n",
              "      <td>10.711739</td>\n",
              "    </tr>\n",
              "    <tr>\n",
              "      <th>std</th>\n",
              "      <td>NaN</td>\n",
              "      <td>NaN</td>\n",
              "      <td>3.944376</td>\n",
              "      <td>NaN</td>\n",
              "      <td>0.985931</td>\n",
              "      <td>954.080976</td>\n",
              "      <td>1.281027</td>\n",
              "      <td>NaN</td>\n",
              "      <td>51.857630</td>\n",
              "      <td>0.987922</td>\n",
              "      <td>NaN</td>\n",
              "      <td>0.159625</td>\n",
              "      <td>1.266515</td>\n",
              "      <td>5.71354</td>\n",
              "      <td>0.459554</td>\n",
              "      <td>0.358300</td>\n",
              "      <td>12.186980</td>\n",
              "    </tr>\n",
              "    <tr>\n",
              "      <th>min</th>\n",
              "      <td>NaN</td>\n",
              "      <td>NaN</td>\n",
              "      <td>17.000000</td>\n",
              "      <td>NaN</td>\n",
              "      <td>1.000000</td>\n",
              "      <td>3.000000</td>\n",
              "      <td>4.000000</td>\n",
              "      <td>NaN</td>\n",
              "      <td>0.000000</td>\n",
              "      <td>1.000000</td>\n",
              "      <td>NaN</td>\n",
              "      <td>0.000000</td>\n",
              "      <td>1.000000</td>\n",
              "      <td>1.00000</td>\n",
              "      <td>0.000000</td>\n",
              "      <td>0.000000</td>\n",
              "      <td>0.050000</td>\n",
              "    </tr>\n",
              "    <tr>\n",
              "      <th>25%</th>\n",
              "      <td>NaN</td>\n",
              "      <td>NaN</td>\n",
              "      <td>24.000000</td>\n",
              "      <td>NaN</td>\n",
              "      <td>1.000000</td>\n",
              "      <td>218.000000</td>\n",
              "      <td>4.500000</td>\n",
              "      <td>NaN</td>\n",
              "      <td>5.000000</td>\n",
              "      <td>1.000000</td>\n",
              "      <td>NaN</td>\n",
              "      <td>0.000000</td>\n",
              "      <td>2.000000</td>\n",
              "      <td>6.00000</td>\n",
              "      <td>0.000000</td>\n",
              "      <td>0.000000</td>\n",
              "      <td>3.000000</td>\n",
              "    </tr>\n",
              "    <tr>\n",
              "      <th>50%</th>\n",
              "      <td>NaN</td>\n",
              "      <td>NaN</td>\n",
              "      <td>27.000000</td>\n",
              "      <td>NaN</td>\n",
              "      <td>2.000000</td>\n",
              "      <td>454.000000</td>\n",
              "      <td>5.000000</td>\n",
              "      <td>NaN</td>\n",
              "      <td>50.000000</td>\n",
              "      <td>2.000000</td>\n",
              "      <td>NaN</td>\n",
              "      <td>0.000000</td>\n",
              "      <td>3.000000</td>\n",
              "      <td>10.00000</td>\n",
              "      <td>0.000000</td>\n",
              "      <td>0.000000</td>\n",
              "      <td>6.000000</td>\n",
              "    </tr>\n",
              "    <tr>\n",
              "      <th>75%</th>\n",
              "      <td>NaN</td>\n",
              "      <td>NaN</td>\n",
              "      <td>29.000000</td>\n",
              "      <td>NaN</td>\n",
              "      <td>3.000000</td>\n",
              "      <td>869.000000</td>\n",
              "      <td>5.500000</td>\n",
              "      <td>NaN</td>\n",
              "      <td>89.000000</td>\n",
              "      <td>2.000000</td>\n",
              "      <td>NaN</td>\n",
              "      <td>0.000000</td>\n",
              "      <td>4.000000</td>\n",
              "      <td>15.00000</td>\n",
              "      <td>1.000000</td>\n",
              "      <td>0.000000</td>\n",
              "      <td>15.000000</td>\n",
              "    </tr>\n",
              "    <tr>\n",
              "      <th>max</th>\n",
              "      <td>NaN</td>\n",
              "      <td>NaN</td>\n",
              "      <td>38.000000</td>\n",
              "      <td>NaN</td>\n",
              "      <td>4.000000</td>\n",
              "      <td>7664.000000</td>\n",
              "      <td>12.500000</td>\n",
              "      <td>NaN</td>\n",
              "      <td>224.000000</td>\n",
              "      <td>4.000000</td>\n",
              "      <td>NaN</td>\n",
              "      <td>1.000000</td>\n",
              "      <td>6.000000</td>\n",
              "      <td>20.00000</td>\n",
              "      <td>1.000000</td>\n",
              "      <td>1.000000</td>\n",
              "      <td>75.000000</td>\n",
              "    </tr>\n",
              "  </tbody>\n",
              "</table>\n",
              "</div>"
            ],
            "text/plain": [
              "               name     club         age  ...    big_club  new_signing  market_value\n",
              "count           345      345  345.000000  ...  345.000000   345.000000    345.000000\n",
              "unique          345       20         NaN  ...         NaN          NaN           NaN\n",
              "top     Lucas Perez  Arsenal         NaN  ...         NaN          NaN           NaN\n",
              "freq              1       22         NaN  ...         NaN          NaN           NaN\n",
              "mean            NaN      NaN   26.805797  ...    0.301449     0.150725     10.711739\n",
              "std             NaN      NaN    3.944376  ...    0.459554     0.358300     12.186980\n",
              "min             NaN      NaN   17.000000  ...    0.000000     0.000000      0.050000\n",
              "25%             NaN      NaN   24.000000  ...    0.000000     0.000000      3.000000\n",
              "50%             NaN      NaN   27.000000  ...    0.000000     0.000000      6.000000\n",
              "75%             NaN      NaN   29.000000  ...    1.000000     0.000000     15.000000\n",
              "max             NaN      NaN   38.000000  ...    1.000000     1.000000     75.000000\n",
              "\n",
              "[11 rows x 17 columns]"
            ]
          },
          "metadata": {
            "tags": []
          },
          "execution_count": 9
        }
      ]
    },
    {
      "cell_type": "code",
      "metadata": {
        "id": "JyOrk9kz_M91",
        "outputId": "5961ec78-9a11-4f14-93b4-0c4a1e1b630f",
        "colab": {
          "base_uri": "https://localhost:8080/"
        }
      },
      "source": [
        "cat = [x for x in list(df.select_dtypes(exclude=['int', 'float']).columns)]\n",
        "print(\"Categorical Features:\")\n",
        "for i in range(len(cat)):\n",
        "  print(str(i+1)+\". \"+cat[i])"
      ],
      "execution_count": 10,
      "outputs": [
        {
          "output_type": "stream",
          "text": [
            "Categorical Features:\n",
            "1. name\n",
            "2. club\n",
            "3. position\n",
            "4. fpl_sel\n",
            "5. nationality\n"
          ],
          "name": "stdout"
        }
      ]
    },
    {
      "cell_type": "code",
      "metadata": {
        "id": "wUq_sKRrA44Y",
        "outputId": "6c9452e8-ba52-48c7-f0d2-ada2e5c9545e",
        "colab": {
          "base_uri": "https://localhost:8080/"
        }
      },
      "source": [
        "num = [x for x in list(df.select_dtypes(include=['int', 'float']).columns)]\n",
        "print(\"Numerical Features:\")\n",
        "for i in range(len(num)):\n",
        "  print(str(i+1)+\". \"+num[i])"
      ],
      "execution_count": 11,
      "outputs": [
        {
          "output_type": "stream",
          "text": [
            "Numerical Features:\n",
            "1. age\n",
            "2. position_cat\n",
            "3. page_views\n",
            "4. fpl_value\n",
            "5. fpl_points\n",
            "6. region\n",
            "7. new_foreign\n",
            "8. age_cat\n",
            "9. club_id\n",
            "10. big_club\n",
            "11. new_signing\n",
            "12. market_value\n"
          ],
          "name": "stdout"
        }
      ]
    },
    {
      "cell_type": "markdown",
      "metadata": {
        "id": "1ISlaD70_puT"
      },
      "source": [
        "<h2> I . Cleaning the data"
      ]
    },
    {
      "cell_type": "code",
      "metadata": {
        "id": "Tkpb6WKq-qFz",
        "outputId": "b2b0a752-8e96-4de8-a47a-1b8fc4c3dc08",
        "colab": {
          "base_uri": "https://localhost:8080/"
        }
      },
      "source": [
        "# Filling the missing values\n",
        "df.isnull().sum()"
      ],
      "execution_count": 12,
      "outputs": [
        {
          "output_type": "execute_result",
          "data": {
            "text/plain": [
              "name            0\n",
              "club            0\n",
              "age             0\n",
              "position        0\n",
              "position_cat    0\n",
              "page_views      0\n",
              "fpl_value       0\n",
              "fpl_sel         0\n",
              "fpl_points      0\n",
              "region          1\n",
              "nationality     0\n",
              "new_foreign     0\n",
              "age_cat         0\n",
              "club_id         0\n",
              "big_club        0\n",
              "new_signing     0\n",
              "market_value    0\n",
              "dtype: int64"
            ]
          },
          "metadata": {
            "tags": []
          },
          "execution_count": 12
        }
      ]
    },
    {
      "cell_type": "code",
      "metadata": {
        "id": "eGc-h6YFCBdl"
      },
      "source": [
        "df['region'] = df['region'].fillna(2.0)"
      ],
      "execution_count": 13,
      "outputs": []
    },
    {
      "cell_type": "code",
      "metadata": {
        "id": "NXpPJwZOSb3N",
        "outputId": "292a792a-db7d-4dd9-f3c6-35d40168d571",
        "colab": {
          "base_uri": "https://localhost:8080/",
          "height": 635
        }
      },
      "source": [
        "df"
      ],
      "execution_count": 14,
      "outputs": [
        {
          "output_type": "execute_result",
          "data": {
            "text/html": [
              "<div>\n",
              "<style scoped>\n",
              "    .dataframe tbody tr th:only-of-type {\n",
              "        vertical-align: middle;\n",
              "    }\n",
              "\n",
              "    .dataframe tbody tr th {\n",
              "        vertical-align: top;\n",
              "    }\n",
              "\n",
              "    .dataframe thead th {\n",
              "        text-align: right;\n",
              "    }\n",
              "</style>\n",
              "<table border=\"1\" class=\"dataframe\">\n",
              "  <thead>\n",
              "    <tr style=\"text-align: right;\">\n",
              "      <th></th>\n",
              "      <th>name</th>\n",
              "      <th>club</th>\n",
              "      <th>age</th>\n",
              "      <th>position</th>\n",
              "      <th>position_cat</th>\n",
              "      <th>page_views</th>\n",
              "      <th>fpl_value</th>\n",
              "      <th>fpl_sel</th>\n",
              "      <th>fpl_points</th>\n",
              "      <th>region</th>\n",
              "      <th>nationality</th>\n",
              "      <th>new_foreign</th>\n",
              "      <th>age_cat</th>\n",
              "      <th>club_id</th>\n",
              "      <th>big_club</th>\n",
              "      <th>new_signing</th>\n",
              "      <th>market_value</th>\n",
              "    </tr>\n",
              "  </thead>\n",
              "  <tbody>\n",
              "    <tr>\n",
              "      <th>275</th>\n",
              "      <td>Chris Smalling</td>\n",
              "      <td>Manchester+United</td>\n",
              "      <td>27</td>\n",
              "      <td>CB</td>\n",
              "      <td>3</td>\n",
              "      <td>834</td>\n",
              "      <td>5.5</td>\n",
              "      <td>1.30%</td>\n",
              "      <td>52</td>\n",
              "      <td>1.0</td>\n",
              "      <td>England</td>\n",
              "      <td>0</td>\n",
              "      <td>3</td>\n",
              "      <td>12</td>\n",
              "      <td>1</td>\n",
              "      <td>0</td>\n",
              "      <td>18.00</td>\n",
              "    </tr>\n",
              "    <tr>\n",
              "      <th>445</th>\n",
              "      <td>Cheikhou Kouyate</td>\n",
              "      <td>West+Ham</td>\n",
              "      <td>27</td>\n",
              "      <td>DM</td>\n",
              "      <td>2</td>\n",
              "      <td>284</td>\n",
              "      <td>5.0</td>\n",
              "      <td>0.10%</td>\n",
              "      <td>79</td>\n",
              "      <td>4.0</td>\n",
              "      <td>Senegal</td>\n",
              "      <td>0</td>\n",
              "      <td>3</td>\n",
              "      <td>20</td>\n",
              "      <td>0</td>\n",
              "      <td>0</td>\n",
              "      <td>12.00</td>\n",
              "    </tr>\n",
              "    <tr>\n",
              "      <th>435</th>\n",
              "      <td>Jonathan Leko</td>\n",
              "      <td>West+Brom</td>\n",
              "      <td>18</td>\n",
              "      <td>RW</td>\n",
              "      <td>1</td>\n",
              "      <td>169</td>\n",
              "      <td>4.5</td>\n",
              "      <td>0.20%</td>\n",
              "      <td>12</td>\n",
              "      <td>1.0</td>\n",
              "      <td>England</td>\n",
              "      <td>0</td>\n",
              "      <td>1</td>\n",
              "      <td>19</td>\n",
              "      <td>0</td>\n",
              "      <td>0</td>\n",
              "      <td>1.50</td>\n",
              "    </tr>\n",
              "    <tr>\n",
              "      <th>434</th>\n",
              "      <td>Hal Robson-Kanu</td>\n",
              "      <td>West+Brom</td>\n",
              "      <td>28</td>\n",
              "      <td>LW</td>\n",
              "      <td>1</td>\n",
              "      <td>766</td>\n",
              "      <td>5.0</td>\n",
              "      <td>0.70%</td>\n",
              "      <td>52</td>\n",
              "      <td>2.0</td>\n",
              "      <td>Wales</td>\n",
              "      <td>0</td>\n",
              "      <td>4</td>\n",
              "      <td>19</td>\n",
              "      <td>0</td>\n",
              "      <td>1</td>\n",
              "      <td>2.50</td>\n",
              "    </tr>\n",
              "    <tr>\n",
              "      <th>423</th>\n",
              "      <td>Ben Foster</td>\n",
              "      <td>West+Brom</td>\n",
              "      <td>34</td>\n",
              "      <td>GK</td>\n",
              "      <td>4</td>\n",
              "      <td>484</td>\n",
              "      <td>4.5</td>\n",
              "      <td>20.70%</td>\n",
              "      <td>113</td>\n",
              "      <td>1.0</td>\n",
              "      <td>England</td>\n",
              "      <td>0</td>\n",
              "      <td>6</td>\n",
              "      <td>19</td>\n",
              "      <td>0</td>\n",
              "      <td>0</td>\n",
              "      <td>4.00</td>\n",
              "    </tr>\n",
              "    <tr>\n",
              "      <th>...</th>\n",
              "      <td>...</td>\n",
              "      <td>...</td>\n",
              "      <td>...</td>\n",
              "      <td>...</td>\n",
              "      <td>...</td>\n",
              "      <td>...</td>\n",
              "      <td>...</td>\n",
              "      <td>...</td>\n",
              "      <td>...</td>\n",
              "      <td>...</td>\n",
              "      <td>...</td>\n",
              "      <td>...</td>\n",
              "      <td>...</td>\n",
              "      <td>...</td>\n",
              "      <td>...</td>\n",
              "      <td>...</td>\n",
              "      <td>...</td>\n",
              "    </tr>\n",
              "    <tr>\n",
              "      <th>230</th>\n",
              "      <td>Loris Karius</td>\n",
              "      <td>Liverpool</td>\n",
              "      <td>24</td>\n",
              "      <td>GK</td>\n",
              "      <td>4</td>\n",
              "      <td>1255</td>\n",
              "      <td>5.0</td>\n",
              "      <td>0.20%</td>\n",
              "      <td>32</td>\n",
              "      <td>2.0</td>\n",
              "      <td>Germany</td>\n",
              "      <td>0</td>\n",
              "      <td>2</td>\n",
              "      <td>10</td>\n",
              "      <td>1</td>\n",
              "      <td>0</td>\n",
              "      <td>8.00</td>\n",
              "    </tr>\n",
              "    <tr>\n",
              "      <th>16</th>\n",
              "      <td>Kieran Gibbs</td>\n",
              "      <td>Arsenal</td>\n",
              "      <td>27</td>\n",
              "      <td>LB</td>\n",
              "      <td>3</td>\n",
              "      <td>489</td>\n",
              "      <td>5.0</td>\n",
              "      <td>0.50%</td>\n",
              "      <td>45</td>\n",
              "      <td>1.0</td>\n",
              "      <td>England</td>\n",
              "      <td>0</td>\n",
              "      <td>3</td>\n",
              "      <td>1</td>\n",
              "      <td>1</td>\n",
              "      <td>0</td>\n",
              "      <td>10.00</td>\n",
              "    </tr>\n",
              "    <tr>\n",
              "      <th>74</th>\n",
              "      <td>Tom Heaton</td>\n",
              "      <td>Burnley</td>\n",
              "      <td>31</td>\n",
              "      <td>GK</td>\n",
              "      <td>4</td>\n",
              "      <td>717</td>\n",
              "      <td>5.0</td>\n",
              "      <td>13.50%</td>\n",
              "      <td>149</td>\n",
              "      <td>1.0</td>\n",
              "      <td>England</td>\n",
              "      <td>0</td>\n",
              "      <td>4</td>\n",
              "      <td>4</td>\n",
              "      <td>0</td>\n",
              "      <td>0</td>\n",
              "      <td>4.00</td>\n",
              "    </tr>\n",
              "    <tr>\n",
              "      <th>176</th>\n",
              "      <td>Joe Lolley</td>\n",
              "      <td>Huddersfield</td>\n",
              "      <td>24</td>\n",
              "      <td>RW</td>\n",
              "      <td>1</td>\n",
              "      <td>63</td>\n",
              "      <td>4.5</td>\n",
              "      <td>0.10%</td>\n",
              "      <td>0</td>\n",
              "      <td>1.0</td>\n",
              "      <td>England</td>\n",
              "      <td>0</td>\n",
              "      <td>2</td>\n",
              "      <td>8</td>\n",
              "      <td>0</td>\n",
              "      <td>0</td>\n",
              "      <td>0.25</td>\n",
              "    </tr>\n",
              "    <tr>\n",
              "      <th>338</th>\n",
              "      <td>Charlie Adam</td>\n",
              "      <td>Stoke+City</td>\n",
              "      <td>31</td>\n",
              "      <td>CM</td>\n",
              "      <td>2</td>\n",
              "      <td>561</td>\n",
              "      <td>5.0</td>\n",
              "      <td>0.10%</td>\n",
              "      <td>59</td>\n",
              "      <td>2.0</td>\n",
              "      <td>Scotland</td>\n",
              "      <td>0</td>\n",
              "      <td>4</td>\n",
              "      <td>15</td>\n",
              "      <td>0</td>\n",
              "      <td>0</td>\n",
              "      <td>3.50</td>\n",
              "    </tr>\n",
              "  </tbody>\n",
              "</table>\n",
              "<p>345 rows × 17 columns</p>\n",
              "</div>"
            ],
            "text/plain": [
              "                 name               club  ...  new_signing market_value\n",
              "275    Chris Smalling  Manchester+United  ...            0        18.00\n",
              "445  Cheikhou Kouyate           West+Ham  ...            0        12.00\n",
              "435     Jonathan Leko          West+Brom  ...            0         1.50\n",
              "434   Hal Robson-Kanu          West+Brom  ...            1         2.50\n",
              "423        Ben Foster          West+Brom  ...            0         4.00\n",
              "..                ...                ...  ...          ...          ...\n",
              "230      Loris Karius          Liverpool  ...            0         8.00\n",
              "16       Kieran Gibbs            Arsenal  ...            0        10.00\n",
              "74         Tom Heaton            Burnley  ...            0         4.00\n",
              "176        Joe Lolley       Huddersfield  ...            0         0.25\n",
              "338      Charlie Adam         Stoke+City  ...            0         3.50\n",
              "\n",
              "[345 rows x 17 columns]"
            ]
          },
          "metadata": {
            "tags": []
          },
          "execution_count": 14
        }
      ]
    },
    {
      "cell_type": "code",
      "metadata": {
        "id": "SFj2sVDImWLS",
        "outputId": "e7cd59d8-a64b-49ed-9d98-c994d7040174",
        "colab": {
          "base_uri": "https://localhost:8080/"
        }
      },
      "source": [
        "for i in df['fpl_sel'].index:\n",
        "  df['fpl_sel'][i] = float(df['fpl_sel'][i][:-1])\n",
        "\n",
        "df['fpl_sel'] = pd.to_numeric(df['fpl_sel'])"
      ],
      "execution_count": 15,
      "outputs": [
        {
          "output_type": "stream",
          "text": [
            "/usr/local/lib/python3.6/dist-packages/ipykernel_launcher.py:2: SettingWithCopyWarning: \n",
            "A value is trying to be set on a copy of a slice from a DataFrame\n",
            "\n",
            "See the caveats in the documentation: https://pandas.pydata.org/pandas-docs/stable/user_guide/indexing.html#returning-a-view-versus-a-copy\n",
            "  \n"
          ],
          "name": "stderr"
        }
      ]
    },
    {
      "cell_type": "code",
      "metadata": {
        "id": "hHoV36XcmpgC",
        "outputId": "1eb852d1-3c1f-4a81-82dd-f121480bb8ad",
        "colab": {
          "base_uri": "https://localhost:8080/"
        }
      },
      "source": [
        "type(list(df['fpl_sel'].index))"
      ],
      "execution_count": 16,
      "outputs": [
        {
          "output_type": "execute_result",
          "data": {
            "text/plain": [
              "list"
            ]
          },
          "metadata": {
            "tags": []
          },
          "execution_count": 16
        }
      ]
    },
    {
      "cell_type": "code",
      "metadata": {
        "id": "94XUziLjR17-",
        "outputId": "baf3422d-18bc-4152-bfcf-4df82e94eb1f",
        "colab": {
          "base_uri": "https://localhost:8080/"
        }
      },
      "source": [
        "type(df['fpl_sel'])"
      ],
      "execution_count": 17,
      "outputs": [
        {
          "output_type": "execute_result",
          "data": {
            "text/plain": [
              "pandas.core.series.Series"
            ]
          },
          "metadata": {
            "tags": []
          },
          "execution_count": 17
        }
      ]
    },
    {
      "cell_type": "code",
      "metadata": {
        "id": "M8VlCYUBDmH0",
        "outputId": "8b2a0954-2a0f-45c9-abc9-7ec4c3ca7ee4",
        "colab": {
          "base_uri": "https://localhost:8080/"
        }
      },
      "source": [
        "df['fpl_sel']"
      ],
      "execution_count": 18,
      "outputs": [
        {
          "output_type": "execute_result",
          "data": {
            "text/plain": [
              "275     1.3\n",
              "445     0.1\n",
              "435     0.2\n",
              "434     0.7\n",
              "423    20.7\n",
              "       ... \n",
              "230     0.2\n",
              "16      0.5\n",
              "74     13.5\n",
              "176     0.1\n",
              "338     0.1\n",
              "Name: fpl_sel, Length: 345, dtype: float64"
            ]
          },
          "metadata": {
            "tags": []
          },
          "execution_count": 18
        }
      ]
    },
    {
      "cell_type": "markdown",
      "metadata": {
        "id": "QNaJHCesSIQa"
      },
      "source": [
        "\n",
        "<h2>II. Exploratory Data Analysis\n"
      ]
    },
    {
      "cell_type": "markdown",
      "metadata": {
        "id": "XtoP8oCGSg6d"
      },
      "source": [
        "<h3>(a). Univariate Analysis</h3>\n",
        "The key pointers to the Univaraite analysis are to find out the outliers present in the data. We also tend to find the distribution of the data on the dataset which can further help us for the Bivaraite/Multivariate analysis.\n"
      ]
    },
    {
      "cell_type": "markdown",
      "metadata": {
        "id": "uXwAN6zwTF_s"
      },
      "source": [
        "1. Count plot - age"
      ]
    },
    {
      "cell_type": "code",
      "metadata": {
        "id": "OU5y4DBLGVRF",
        "outputId": "b9a09826-59fd-40e3-c677-c330b8943280",
        "colab": {
          "base_uri": "https://localhost:8080/",
          "height": 334
        }
      },
      "source": [
        "sns.distplot(df['age'], bins=40)\n",
        "sns.despine()"
      ],
      "execution_count": 19,
      "outputs": [
        {
          "output_type": "stream",
          "text": [
            "/usr/local/lib/python3.6/dist-packages/seaborn/distributions.py:2551: FutureWarning: `distplot` is a deprecated function and will be removed in a future version. Please adapt your code to use either `displot` (a figure-level function with similar flexibility) or `histplot` (an axes-level function for histograms).\n",
            "  warnings.warn(msg, FutureWarning)\n"
          ],
          "name": "stderr"
        },
        {
          "output_type": "display_data",
          "data": {
            "image/png": "[encoded data removed]",
            "text/plain": [
              "<Figure size 432x288 with 1 Axes>"
            ]
          },
          "metadata": {
            "tags": [],
            "needs_background": "light"
          }
        }
      ]
    },
    {
      "cell_type": "code",
      "metadata": {
        "id": "nfm7RZLdo_zs",
        "outputId": "d83fff9b-699b-480b-a929-f2ff6133eb9a",
        "colab": {
          "base_uri": "https://localhost:8080/",
          "height": 351
        }
      },
      "source": [
        "sns.stripplot(df['age'])"
      ],
      "execution_count": 20,
      "outputs": [
        {
          "output_type": "stream",
          "text": [
            "/usr/local/lib/python3.6/dist-packages/seaborn/_decorators.py:43: FutureWarning: Pass the following variable as a keyword arg: x. From version 0.12, the only valid positional argument will be `data`, and passing other arguments without an explicit keyword will result in an error or misinterpretation.\n",
            "  FutureWarning\n"
          ],
          "name": "stderr"
        },
        {
          "output_type": "execute_result",
          "data": {
            "text/plain": [
              "<matplotlib.axes._subplots.AxesSubplot at 0x7fda724a6a90>"
            ]
          },
          "metadata": {
            "tags": []
          },
          "execution_count": 20
        },
        {
          "output_type": "display_data",
          "data": {
            "image/png": "[encoded data removed]",
            "text/plain": [
              "<Figure size 432x288 with 1 Axes>"
            ]
          },
          "metadata": {
            "tags": [],
            "needs_background": "light"
          }
        }
      ]
    },
    {
      "cell_type": "markdown",
      "metadata": {
        "id": "qHaJdC_58h5r"
      },
      "source": [
        "2. Count plot - club\n"
      ]
    },
    {
      "cell_type": "code",
      "metadata": {
        "id": "kIAgz3HmCMqh",
        "outputId": "3c8c90eb-3a60-4720-fa1a-2effcc0ea158",
        "colab": {
          "base_uri": "https://localhost:8080/",
          "height": 602
        }
      },
      "source": [
        "plt.figure(figsize=(8,8))\n",
        "#sns.countplot(x='Item_Type', data=df)\n",
        "\n",
        "ax=sns.countplot(x='club', data=df)\n",
        "ax.set_xticklabels(ax.get_xticklabels(), rotation=40, ha=\"right\")\n",
        "plt.tight_layout()\n",
        "plt.show()\n",
        "sns.despine()"
      ],
      "execution_count": 21,
      "outputs": [
        {
          "output_type": "display_data",
          "data": {
            "image/png": "[encoded data removed]",
            "text/plain": [
              "<Figure size 576x576 with 1 Axes>"
            ]
          },
          "metadata": {
            "tags": [],
            "needs_background": "light"
          }
        },
        {
          "output_type": "display_data",
          "data": {
            "text/plain": [
              "<Figure size 432x288 with 0 Axes>"
            ]
          },
          "metadata": {
            "tags": []
          }
        }
      ]
    },
    {
      "cell_type": "markdown",
      "metadata": {
        "id": "tCv1srbS9KNY"
      },
      "source": [
        "3. Count plot - position\n"
      ]
    },
    {
      "cell_type": "code",
      "metadata": {
        "id": "hBXMs5n-CfSU",
        "outputId": "852fc5fa-8fc3-4e5c-ae8f-47c3b56af794",
        "colab": {
          "base_uri": "https://localhost:8080/",
          "height": 386
        }
      },
      "source": [
        "plt.figure(figsize=(5,5))\n",
        "#sns.countplot(x='Item_Type', data=df)\n",
        "\n",
        "ax=sns.countplot(x='position', data=df)\n",
        "ax.set_xticklabels(ax.get_xticklabels(), rotation=40, ha=\"right\")\n",
        "plt.tight_layout()\n",
        "plt.show()\n",
        "sns.despine()"
      ],
      "execution_count": 22,
      "outputs": [
        {
          "output_type": "display_data",
          "data": {
            "image/png": "[encoded data removed]",
            "text/plain": [
              "<Figure size 360x360 with 1 Axes>"
            ]
          },
          "metadata": {
            "tags": [],
            "needs_background": "light"
          }
        },
        {
          "output_type": "display_data",
          "data": {
            "text/plain": [
              "<Figure size 432x288 with 0 Axes>"
            ]
          },
          "metadata": {
            "tags": []
          }
        }
      ]
    },
    {
      "cell_type": "markdown",
      "metadata": {
        "id": "dlyhg3ye9K0s"
      },
      "source": [
        "4. Count plot - position_cat\n"
      ]
    },
    {
      "cell_type": "code",
      "metadata": {
        "id": "OzWEQ4uAC29U",
        "outputId": "31088115-1b74-4c7f-daf8-b99743392a8d",
        "colab": {
          "base_uri": "https://localhost:8080/",
          "height": 242
        }
      },
      "source": [
        "plt.figure(figsize=(3,3))\n",
        "#sns.countplot(x='Item_Type', data=df)\n",
        "\n",
        "ax=sns.countplot(x='position_cat', data=df)\n",
        "ax.set_xticklabels(ax.get_xticklabels())\n",
        "plt.tight_layout()\n",
        "plt.show()\n",
        "sns.despine()"
      ],
      "execution_count": 23,
      "outputs": [
        {
          "output_type": "display_data",
          "data": {
            "image/png": "[encoded data removed]",
            "text/plain": [
              "<Figure size 216x216 with 1 Axes>"
            ]
          },
          "metadata": {
            "tags": [],
            "needs_background": "light"
          }
        },
        {
          "output_type": "display_data",
          "data": {
            "text/plain": [
              "<Figure size 432x288 with 0 Axes>"
            ]
          },
          "metadata": {
            "tags": []
          }
        }
      ]
    },
    {
      "cell_type": "markdown",
      "metadata": {
        "id": "qpxU84mF9LZV"
      },
      "source": [
        "5. Count plot - page_views\n"
      ]
    },
    {
      "cell_type": "code",
      "metadata": {
        "id": "Hn5C9VQcDFWK",
        "outputId": "36f9ecc5-5be4-46a1-f3d5-8bb2134d90a3",
        "colab": {
          "base_uri": "https://localhost:8080/",
          "height": 335
        }
      },
      "source": [
        "sns.distplot(df['page_views'], bins=40)\n",
        "sns.despine()"
      ],
      "execution_count": 24,
      "outputs": [
        {
          "output_type": "stream",
          "text": [
            "/usr/local/lib/python3.6/dist-packages/seaborn/distributions.py:2551: FutureWarning: `distplot` is a deprecated function and will be removed in a future version. Please adapt your code to use either `displot` (a figure-level function with similar flexibility) or `histplot` (an axes-level function for histograms).\n",
            "  warnings.warn(msg, FutureWarning)\n"
          ],
          "name": "stderr"
        },
        {
          "output_type": "display_data",
          "data": {
            "image/png": "[encoded data removed]",
            "text/plain": [
              "<Figure size 432x288 with 1 Axes>"
            ]
          },
          "metadata": {
            "tags": [],
            "needs_background": "light"
          }
        }
      ]
    },
    {
      "cell_type": "markdown",
      "metadata": {
        "id": "S141cvwTDywv"
      },
      "source": [
        "Checking boxplot as there may be outliers"
      ]
    },
    {
      "cell_type": "code",
      "metadata": {
        "id": "I_vrQ_QvDt7P",
        "outputId": "cb70c657-ab69-4f2a-eff5-19fc68f9e1c0",
        "colab": {
          "base_uri": "https://localhost:8080/",
          "height": 335
        }
      },
      "source": [
        "sns.boxplot(df[\"page_views\"])\n",
        "sns.despine()"
      ],
      "execution_count": 25,
      "outputs": [
        {
          "output_type": "stream",
          "text": [
            "/usr/local/lib/python3.6/dist-packages/seaborn/_decorators.py:43: FutureWarning: Pass the following variable as a keyword arg: x. From version 0.12, the only valid positional argument will be `data`, and passing other arguments without an explicit keyword will result in an error or misinterpretation.\n",
            "  FutureWarning\n"
          ],
          "name": "stderr"
        },
        {
          "output_type": "display_data",
          "data": {
            "image/png": "[encoded data removed]",
            "text/plain": [
              "<Figure size 432x288 with 1 Axes>"
            ]
          },
          "metadata": {
            "tags": [],
            "needs_background": "light"
          }
        }
      ]
    },
    {
      "cell_type": "markdown",
      "metadata": {
        "id": "PRgWLI6HD_JC"
      },
      "source": [
        "\n",
        "/## Needs correction  in the inference\n",
        "\n",
        "It can be seen that,\n",
        "\n",
        "1.   The graph is skewed.\n",
        "2.   There are outliers.\n",
        "\n",
        "\n"
      ]
    },
    {
      "cell_type": "markdown",
      "metadata": {
        "id": "BUMuBncq9Lr1"
      },
      "source": [
        "6. Count plot - fpl_value\n"
      ]
    },
    {
      "cell_type": "code",
      "metadata": {
        "id": "hzsQcrZ3Fvas",
        "outputId": "0d505937-50f4-49ff-c5e2-bf8ec037a428",
        "colab": {
          "base_uri": "https://localhost:8080/",
          "height": 335
        }
      },
      "source": [
        "sns.distplot(df['fpl_value'])\n",
        "sns.despine()"
      ],
      "execution_count": 26,
      "outputs": [
        {
          "output_type": "stream",
          "text": [
            "/usr/local/lib/python3.6/dist-packages/seaborn/distributions.py:2551: FutureWarning: `distplot` is a deprecated function and will be removed in a future version. Please adapt your code to use either `displot` (a figure-level function with similar flexibility) or `histplot` (an axes-level function for histograms).\n",
            "  warnings.warn(msg, FutureWarning)\n"
          ],
          "name": "stderr"
        },
        {
          "output_type": "display_data",
          "data": {
            "image/png": "[encoded data removed]",
            "text/plain": [
              "<Figure size 432x288 with 1 Axes>"
            ]
          },
          "metadata": {
            "tags": [],
            "needs_background": "light"
          }
        }
      ]
    },
    {
      "cell_type": "code",
      "metadata": {
        "id": "wC9b2OYtF2J_",
        "outputId": "90ded207-ffba-45e4-b671-ef42c83d6376",
        "colab": {
          "base_uri": "https://localhost:8080/",
          "height": 335
        }
      },
      "source": [
        "sns.boxplot(df[\"fpl_value\"])\n",
        "sns.despine()"
      ],
      "execution_count": 27,
      "outputs": [
        {
          "output_type": "stream",
          "text": [
            "/usr/local/lib/python3.6/dist-packages/seaborn/_decorators.py:43: FutureWarning: Pass the following variable as a keyword arg: x. From version 0.12, the only valid positional argument will be `data`, and passing other arguments without an explicit keyword will result in an error or misinterpretation.\n",
            "  FutureWarning\n"
          ],
          "name": "stderr"
        },
        {
          "output_type": "display_data",
          "data": {
            "image/png": "[encoded data removed]",
            "text/plain": [
              "<Figure size 432x288 with 1 Axes>"
            ]
          },
          "metadata": {
            "tags": [],
            "needs_background": "light"
          }
        }
      ]
    },
    {
      "cell_type": "markdown",
      "metadata": {
        "id": "Jza44sr3IHiN"
      },
      "source": [
        "\n",
        "\n",
        "1.   Skewed\n",
        "2.   Outliers\n",
        "3.   Most values between 4 to 6.\n",
        "\n"
      ]
    },
    {
      "cell_type": "code",
      "metadata": {
        "id": "gDZp7sd7Gsh0",
        "outputId": "f5ca1065-651d-4c32-a220-fdf2b93c1a2b",
        "colab": {
          "base_uri": "https://localhost:8080/",
          "height": 278
        }
      },
      "source": [
        "# checking one of the ouliers to get the idea of number of elements \n",
        "# with that specific outlier as a value\n",
        " \n",
        "df[df[\"fpl_value\"]==8]"
      ],
      "execution_count": 28,
      "outputs": [
        {
          "output_type": "execute_result",
          "data": {
            "text/html": [
              "<div>\n",
              "<style scoped>\n",
              "    .dataframe tbody tr th:only-of-type {\n",
              "        vertical-align: middle;\n",
              "    }\n",
              "\n",
              "    .dataframe tbody tr th {\n",
              "        vertical-align: top;\n",
              "    }\n",
              "\n",
              "    .dataframe thead th {\n",
              "        text-align: right;\n",
              "    }\n",
              "</style>\n",
              "<table border=\"1\" class=\"dataframe\">\n",
              "  <thead>\n",
              "    <tr style=\"text-align: right;\">\n",
              "      <th></th>\n",
              "      <th>name</th>\n",
              "      <th>club</th>\n",
              "      <th>age</th>\n",
              "      <th>position</th>\n",
              "      <th>position_cat</th>\n",
              "      <th>page_views</th>\n",
              "      <th>fpl_value</th>\n",
              "      <th>fpl_sel</th>\n",
              "      <th>fpl_points</th>\n",
              "      <th>region</th>\n",
              "      <th>nationality</th>\n",
              "      <th>new_foreign</th>\n",
              "      <th>age_cat</th>\n",
              "      <th>club_id</th>\n",
              "      <th>big_club</th>\n",
              "      <th>new_signing</th>\n",
              "      <th>market_value</th>\n",
              "    </tr>\n",
              "  </thead>\n",
              "  <tbody>\n",
              "    <tr>\n",
              "      <th>271</th>\n",
              "      <td>Henrikh Mkhitaryan</td>\n",
              "      <td>Manchester+United</td>\n",
              "      <td>28</td>\n",
              "      <td>AM</td>\n",
              "      <td>1</td>\n",
              "      <td>3312</td>\n",
              "      <td>8.0</td>\n",
              "      <td>4.5</td>\n",
              "      <td>73</td>\n",
              "      <td>4.0</td>\n",
              "      <td>Armenia</td>\n",
              "      <td>0</td>\n",
              "      <td>4</td>\n",
              "      <td>12</td>\n",
              "      <td>1</td>\n",
              "      <td>1</td>\n",
              "      <td>35.0</td>\n",
              "    </tr>\n",
              "    <tr>\n",
              "      <th>263</th>\n",
              "      <td>Paul Pogba</td>\n",
              "      <td>Manchester+United</td>\n",
              "      <td>24</td>\n",
              "      <td>CM</td>\n",
              "      <td>2</td>\n",
              "      <td>7435</td>\n",
              "      <td>8.0</td>\n",
              "      <td>19.5</td>\n",
              "      <td>115</td>\n",
              "      <td>2.0</td>\n",
              "      <td>France</td>\n",
              "      <td>0</td>\n",
              "      <td>2</td>\n",
              "      <td>12</td>\n",
              "      <td>1</td>\n",
              "      <td>1</td>\n",
              "      <td>75.0</td>\n",
              "    </tr>\n",
              "    <tr>\n",
              "      <th>379</th>\n",
              "      <td>Son Heung-min</td>\n",
              "      <td>Tottenham</td>\n",
              "      <td>25</td>\n",
              "      <td>LW</td>\n",
              "      <td>1</td>\n",
              "      <td>2185</td>\n",
              "      <td>8.0</td>\n",
              "      <td>1.6</td>\n",
              "      <td>174</td>\n",
              "      <td>4.0</td>\n",
              "      <td>South Korea</td>\n",
              "      <td>0</td>\n",
              "      <td>3</td>\n",
              "      <td>17</td>\n",
              "      <td>1</td>\n",
              "      <td>0</td>\n",
              "      <td>30.0</td>\n",
              "    </tr>\n",
              "    <tr>\n",
              "      <th>113</th>\n",
              "      <td>Christian Benteke</td>\n",
              "      <td>Crystal+Palace</td>\n",
              "      <td>26</td>\n",
              "      <td>CF</td>\n",
              "      <td>1</td>\n",
              "      <td>1661</td>\n",
              "      <td>8.0</td>\n",
              "      <td>10.5</td>\n",
              "      <td>136</td>\n",
              "      <td>2.0</td>\n",
              "      <td>Belgium</td>\n",
              "      <td>0</td>\n",
              "      <td>3</td>\n",
              "      <td>6</td>\n",
              "      <td>0</td>\n",
              "      <td>1</td>\n",
              "      <td>28.0</td>\n",
              "    </tr>\n",
              "    <tr>\n",
              "      <th>244</th>\n",
              "      <td>David Silva</td>\n",
              "      <td>Manchester+City</td>\n",
              "      <td>31</td>\n",
              "      <td>AM</td>\n",
              "      <td>1</td>\n",
              "      <td>1434</td>\n",
              "      <td>8.0</td>\n",
              "      <td>3.3</td>\n",
              "      <td>130</td>\n",
              "      <td>2.0</td>\n",
              "      <td>Spain</td>\n",
              "      <td>0</td>\n",
              "      <td>4</td>\n",
              "      <td>11</td>\n",
              "      <td>1</td>\n",
              "      <td>0</td>\n",
              "      <td>30.0</td>\n",
              "    </tr>\n",
              "  </tbody>\n",
              "</table>\n",
              "</div>"
            ],
            "text/plain": [
              "                   name               club  ...  new_signing market_value\n",
              "271  Henrikh Mkhitaryan  Manchester+United  ...            1         35.0\n",
              "263          Paul Pogba  Manchester+United  ...            1         75.0\n",
              "379       Son Heung-min          Tottenham  ...            0         30.0\n",
              "113   Christian Benteke     Crystal+Palace  ...            1         28.0\n",
              "244         David Silva    Manchester+City  ...            0         30.0\n",
              "\n",
              "[5 rows x 17 columns]"
            ]
          },
          "metadata": {
            "tags": []
          },
          "execution_count": 28
        }
      ]
    },
    {
      "cell_type": "markdown",
      "metadata": {
        "id": "55h2w9T09L58"
      },
      "source": [
        "7. Count plot - fpl_sel\n"
      ]
    },
    {
      "cell_type": "code",
      "metadata": {
        "id": "I_yY-x_yJiKw",
        "outputId": "4e9f8458-1373-4a24-a9f8-bd99d5feabab",
        "colab": {
          "base_uri": "https://localhost:8080/",
          "height": 335
        }
      },
      "source": [
        "sns.boxplot(df['fpl_sel'])\n",
        "sns.despine()"
      ],
      "execution_count": 29,
      "outputs": [
        {
          "output_type": "stream",
          "text": [
            "/usr/local/lib/python3.6/dist-packages/seaborn/_decorators.py:43: FutureWarning: Pass the following variable as a keyword arg: x. From version 0.12, the only valid positional argument will be `data`, and passing other arguments without an explicit keyword will result in an error or misinterpretation.\n",
            "  FutureWarning\n"
          ],
          "name": "stderr"
        },
        {
          "output_type": "display_data",
          "data": {
            "image/png": "[encoded data removed]",
            "text/plain": [
              "<Figure size 432x288 with 1 Axes>"
            ]
          },
          "metadata": {
            "tags": [],
            "needs_background": "light"
          }
        }
      ]
    },
    {
      "cell_type": "markdown",
      "metadata": {
        "id": "1dldq_J9JsVq"
      },
      "source": [
        "1. Highly skewed\n",
        "2. Most values less than 5\n",
        "3. Too many outliers"
      ]
    },
    {
      "cell_type": "markdown",
      "metadata": {
        "id": "uUeW5ure9MFp"
      },
      "source": [
        "8. Count plot - fpl_points\n"
      ]
    },
    {
      "cell_type": "code",
      "metadata": {
        "id": "iprSlL2jKAq3",
        "outputId": "8a1317d4-1474-4bbc-d72b-20a592133944",
        "colab": {
          "base_uri": "https://localhost:8080/",
          "height": 335
        }
      },
      "source": [
        "sns.distplot(df['fpl_points'])\n",
        "sns.despine()"
      ],
      "execution_count": 30,
      "outputs": [
        {
          "output_type": "stream",
          "text": [
            "/usr/local/lib/python3.6/dist-packages/seaborn/distributions.py:2551: FutureWarning: `distplot` is a deprecated function and will be removed in a future version. Please adapt your code to use either `displot` (a figure-level function with similar flexibility) or `histplot` (an axes-level function for histograms).\n",
            "  warnings.warn(msg, FutureWarning)\n"
          ],
          "name": "stderr"
        },
        {
          "output_type": "display_data",
          "data": {
            "image/png": "[encoded data removed]",
            "text/plain": [
              "<Figure size 432x288 with 1 Axes>"
            ]
          },
          "metadata": {
            "tags": [],
            "needs_background": "light"
          }
        }
      ]
    },
    {
      "cell_type": "code",
      "metadata": {
        "id": "RjTHq4IkKMQZ",
        "outputId": "f65dc494-67ab-406f-beb6-4b0de3588855",
        "colab": {
          "base_uri": "https://localhost:8080/",
          "height": 335
        }
      },
      "source": [
        "sns.boxplot(df['fpl_points'])\n",
        "sns.despine()"
      ],
      "execution_count": 31,
      "outputs": [
        {
          "output_type": "stream",
          "text": [
            "/usr/local/lib/python3.6/dist-packages/seaborn/_decorators.py:43: FutureWarning: Pass the following variable as a keyword arg: x. From version 0.12, the only valid positional argument will be `data`, and passing other arguments without an explicit keyword will result in an error or misinterpretation.\n",
            "  FutureWarning\n"
          ],
          "name": "stderr"
        },
        {
          "output_type": "display_data",
          "data": {
            "image/png": "[encoded data removed]",
            "text/plain": [
              "<Figure size 432x288 with 1 Axes>"
            ]
          },
          "metadata": {
            "tags": [],
            "needs_background": "light"
          }
        }
      ]
    },
    {
      "cell_type": "code",
      "metadata": {
        "id": "7TaiwkvDNmw5",
        "outputId": "11074826-f6f0-4829-e221-c3006f58101d",
        "colab": {
          "base_uri": "https://localhost:8080/",
          "height": 335
        }
      },
      "source": [
        "sns.stripplot(df['fpl_points'])\n",
        "sns.despine()"
      ],
      "execution_count": 32,
      "outputs": [
        {
          "output_type": "stream",
          "text": [
            "/usr/local/lib/python3.6/dist-packages/seaborn/_decorators.py:43: FutureWarning: Pass the following variable as a keyword arg: x. From version 0.12, the only valid positional argument will be `data`, and passing other arguments without an explicit keyword will result in an error or misinterpretation.\n",
            "  FutureWarning\n"
          ],
          "name": "stderr"
        },
        {
          "output_type": "display_data",
          "data": {
            "image/png": "[encoded data removed]",
            "text/plain": [
              "<Figure size 432x288 with 1 Axes>"
            ]
          },
          "metadata": {
            "tags": [],
            "needs_background": "light"
          }
        }
      ]
    },
    {
      "cell_type": "markdown",
      "metadata": {
        "id": "CBcvX4vZKO4G"
      },
      "source": [
        "1. Highly skewed\n",
        "2. A few outliers"
      ]
    },
    {
      "cell_type": "markdown",
      "metadata": {
        "id": "fJIaSPY39MRm"
      },
      "source": [
        "9. Count plot - region\n"
      ]
    },
    {
      "cell_type": "code",
      "metadata": {
        "id": "JMTe4i7eLAuH",
        "outputId": "3b795cf6-e074-45eb-c97d-c5f33f78d945",
        "colab": {
          "base_uri": "https://localhost:8080/",
          "height": 386
        }
      },
      "source": [
        "plt.figure(figsize=(5,5))\n",
        "#sns.countplot(x='Item_Type', data=df)\n",
        "\n",
        "ax=sns.countplot(x='region', data=df)\n",
        "ax.set_xticklabels(ax.get_xticklabels(), rotation=40, ha=\"right\")\n",
        "plt.tight_layout()\n",
        "plt.show()\n",
        "sns.despine()"
      ],
      "execution_count": 33,
      "outputs": [
        {
          "output_type": "display_data",
          "data": {
            "image/png": "[encoded data removed]",
            "text/plain": [
              "<Figure size 360x360 with 1 Axes>"
            ]
          },
          "metadata": {
            "tags": [],
            "needs_background": "light"
          }
        },
        {
          "output_type": "display_data",
          "data": {
            "text/plain": [
              "<Figure size 432x288 with 0 Axes>"
            ]
          },
          "metadata": {
            "tags": []
          }
        }
      ]
    },
    {
      "cell_type": "markdown",
      "metadata": {
        "id": "40VCqMdu9McA"
      },
      "source": [
        "10. Count plot - nationality\n"
      ]
    },
    {
      "cell_type": "code",
      "metadata": {
        "id": "P7opj7COLS8Q",
        "outputId": "badb1a2e-4be0-41ac-c109-4d83fb4ac8f1",
        "colab": {
          "base_uri": "https://localhost:8080/",
          "height": 458
        }
      },
      "source": [
        "plt.figure(figsize=(17,6))\n",
        "#sns.countplot(x='Item_Type', data=df)\n",
        "\n",
        "ax=sns.countplot(x='nationality', data=df)\n",
        "ax.set_xticklabels(ax.get_xticklabels(), rotation=40, ha=\"right\")\n",
        "plt.tight_layout()\n",
        "plt.show()\n",
        "sns.despine()"
      ],
      "execution_count": 34,
      "outputs": [
        {
          "output_type": "display_data",
          "data": {
            "image/png": "[encoded data removed]",
            "text/plain": [
              "<Figure size 1224x432 with 1 Axes>"
            ]
          },
          "metadata": {
            "tags": [],
            "needs_background": "light"
          }
        },
        {
          "output_type": "display_data",
          "data": {
            "text/plain": [
              "<Figure size 432x288 with 0 Axes>"
            ]
          },
          "metadata": {
            "tags": []
          }
        }
      ]
    },
    {
      "cell_type": "markdown",
      "metadata": {
        "id": "da39E0gvKNhq"
      },
      "source": [
        "1. A huge number (more than 150) of players from England.\n",
        "2. Number of players from most countries is less than 10."
      ]
    },
    {
      "cell_type": "markdown",
      "metadata": {
        "id": "nsbrEuT09Mnb"
      },
      "source": [
        "11. Count plot - new_foreign\n"
      ]
    },
    {
      "cell_type": "code",
      "metadata": {
        "id": "xaA2JuqfOcwO",
        "outputId": "6b14c5d6-2075-4271-d13a-56b9de133b35",
        "colab": {
          "base_uri": "https://localhost:8080/",
          "height": 240
        }
      },
      "source": [
        "plt.figure(figsize=(3,3))\n",
        "#sns.countplot(x='Item_Type', data=df)\n",
        "\n",
        "ax=sns.countplot(x='new_foreign', data=df)\n",
        "ax.set_xticklabels(ax.get_xticklabels(), rotation=40, ha=\"right\")\n",
        "plt.tight_layout()\n",
        "plt.show()\n",
        "sns.despine()"
      ],
      "execution_count": 35,
      "outputs": [
        {
          "output_type": "display_data",
          "data": {
            "image/png": "[encoded data removed]",
            "text/plain": [
              "<Figure size 216x216 with 1 Axes>"
            ]
          },
          "metadata": {
            "tags": [],
            "needs_background": "light"
          }
        },
        {
          "output_type": "display_data",
          "data": {
            "text/plain": [
              "<Figure size 432x288 with 0 Axes>"
            ]
          },
          "metadata": {
            "tags": []
          }
        }
      ]
    },
    {
      "cell_type": "markdown",
      "metadata": {
        "id": "taoeF_qfPCkf"
      },
      "source": [
        "New foreign players is very very less as compared to those who are not."
      ]
    },
    {
      "cell_type": "markdown",
      "metadata": {
        "id": "6GxXlQuj9Mx6"
      },
      "source": [
        "12. Count plot - age_cat\n"
      ]
    },
    {
      "cell_type": "code",
      "metadata": {
        "id": "VNRnTlx9PW2R",
        "outputId": "37edeb28-47b2-4580-fa89-fdc7ff40d2a3",
        "colab": {
          "base_uri": "https://localhost:8080/",
          "height": 242
        }
      },
      "source": [
        "plt.figure(figsize=(3,3))\n",
        "#sns.countplot(x='Item_Type', data=df)\n",
        "\n",
        "ax=sns.countplot(x='age_cat', data=df)\n",
        "ax.set_xticklabels(ax.get_xticklabels(), rotation=40, ha=\"right\")\n",
        "plt.tight_layout()\n",
        "plt.show()\n",
        "sns.despine()"
      ],
      "execution_count": 36,
      "outputs": [
        {
          "output_type": "display_data",
          "data": {
            "image/png": "[encoded data removed]",
            "text/plain": [
              "<Figure size 216x216 with 1 Axes>"
            ]
          },
          "metadata": {
            "tags": [],
            "needs_background": "light"
          }
        },
        {
          "output_type": "display_data",
          "data": {
            "text/plain": [
              "<Figure size 432x288 with 0 Axes>"
            ]
          },
          "metadata": {
            "tags": []
          }
        }
      ]
    },
    {
      "cell_type": "markdown",
      "metadata": {
        "id": "1yb-BRbJ9vIE"
      },
      "source": [
        "13. Count plot - club_id"
      ]
    },
    {
      "cell_type": "code",
      "metadata": {
        "id": "-gVMA559PaOZ",
        "outputId": "4b776c16-ed7a-4f0a-acb0-5e59995a517a",
        "colab": {
          "base_uri": "https://localhost:8080/",
          "height": 458
        }
      },
      "source": [
        "plt.figure(figsize=(6,6))\n",
        "#sns.countplot(x='Item_Type', data=df)\n",
        "\n",
        "ax=sns.countplot(x='club_id', data=df)\n",
        "ax.set_xticklabels(ax.get_xticklabels(), rotation=40, ha=\"right\")\n",
        "plt.tight_layout()\n",
        "plt.show()\n",
        "sns.despine()"
      ],
      "execution_count": 37,
      "outputs": [
        {
          "output_type": "display_data",
          "data": {
            "image/png": "[encoded data removed]",
            "text/plain": [
              "<Figure size 432x432 with 1 Axes>"
            ]
          },
          "metadata": {
            "tags": [],
            "needs_background": "light"
          }
        },
        {
          "output_type": "display_data",
          "data": {
            "text/plain": [
              "<Figure size 432x288 with 0 Axes>"
            ]
          },
          "metadata": {
            "tags": []
          }
        }
      ]
    },
    {
      "cell_type": "markdown",
      "metadata": {
        "id": "B8BmIi1F9ytI"
      },
      "source": [
        "14. Count plot - big_club\n"
      ]
    },
    {
      "cell_type": "code",
      "metadata": {
        "id": "sq8n_TE7PgtP",
        "outputId": "de9ce715-f14f-449e-f473-cd45267cbd10",
        "colab": {
          "base_uri": "https://localhost:8080/",
          "height": 242
        }
      },
      "source": [
        "plt.figure(figsize=(3,3))\n",
        "#sns.countplot(x='Item_Type', data=df)\n",
        "\n",
        "ax=sns.countplot(x='big_club', data=df)\n",
        "ax.set_xticklabels(ax.get_xticklabels(), rotation=40, ha=\"right\")\n",
        "plt.tight_layout()\n",
        "plt.show()\n",
        "sns.despine()"
      ],
      "execution_count": 48,
      "outputs": [
        {
          "output_type": "display_data",
          "data": {
            "image/png": "[encoded data removed]",
            "text/plain": [
              "<Figure size 216x216 with 1 Axes>"
            ]
          },
          "metadata": {
            "tags": [],
            "needs_background": "light"
          }
        },
        {
          "output_type": "display_data",
          "data": {
            "text/plain": [
              "<Figure size 432x288 with 0 Axes>"
            ]
          },
          "metadata": {
            "tags": []
          }
        }
      ]
    },
    {
      "cell_type": "markdown",
      "metadata": {
        "id": "fyeggdAS-AZn"
      },
      "source": [
        "15. Count plot - new_signing \n"
      ]
    },
    {
      "cell_type": "code",
      "metadata": {
        "id": "853AkXm9P-cv",
        "outputId": "bdb4007e-734a-4e58-c504-1a1d157a485a",
        "colab": {
          "base_uri": "https://localhost:8080/",
          "height": 242
        }
      },
      "source": [
        "plt.figure(figsize=(3,3))\n",
        "#sns.countplot(x='Item_Type', data=df)\n",
        "\n",
        "ax=sns.countplot(x='new_signing', data=df)\n",
        "ax.set_xticklabels(ax.get_xticklabels(), rotation=40, ha=\"right\")\n",
        "plt.tight_layout()\n",
        "plt.show()\n",
        "sns.despine()"
      ],
      "execution_count": 51,
      "outputs": [
        {
          "output_type": "display_data",
          "data": {
            "image/png": "[encoded data removed]",
            "text/plain": [
              "<Figure size 216x216 with 1 Axes>"
            ]
          },
          "metadata": {
            "tags": [],
            "needs_background": "light"
          }
        },
        {
          "output_type": "display_data",
          "data": {
            "text/plain": [
              "<Figure size 432x288 with 0 Axes>"
            ]
          },
          "metadata": {
            "tags": []
          }
        }
      ]
    },
    {
      "cell_type": "markdown",
      "metadata": {
        "id": "bOb_r9x_9LNN"
      },
      "source": [
        "16. Count plot - market_value  ( TARGET)\n"
      ]
    },
    {
      "cell_type": "code",
      "metadata": {
        "id": "52-ZjcudQC-J",
        "outputId": "3339f62a-bc70-4d2c-fd69-54c60a3b75e2",
        "colab": {
          "base_uri": "https://localhost:8080/",
          "height": 297
        }
      },
      "source": [
        "plt.figure(figsize=(3,3))\n",
        "#sns.countplot(x='Item_Type', data=df)\n",
        "\n",
        "ax=sns.distplot(df['market_value'])\n",
        "ax.set_xticklabels(ax.get_xticklabels(), rotation=40, ha=\"right\")\n",
        "plt.tight_layout()\n",
        "plt.show()\n",
        "sns.despine()"
      ],
      "execution_count": 41,
      "outputs": [
        {
          "output_type": "stream",
          "text": [
            "/usr/local/lib/python3.6/dist-packages/seaborn/distributions.py:2551: FutureWarning: `distplot` is a deprecated function and will be removed in a future version. Please adapt your code to use either `displot` (a figure-level function with similar flexibility) or `histplot` (an axes-level function for histograms).\n",
            "  warnings.warn(msg, FutureWarning)\n"
          ],
          "name": "stderr"
        },
        {
          "output_type": "display_data",
          "data": {
            "image/png": "[encoded data removed]",
            "text/plain": [
              "<Figure size 216x216 with 1 Axes>"
            ]
          },
          "metadata": {
            "tags": [],
            "needs_background": "light"
          }
        },
        {
          "output_type": "display_data",
          "data": {
            "text/plain": [
              "<Figure size 432x288 with 0 Axes>"
            ]
          },
          "metadata": {
            "tags": []
          }
        }
      ]
    },
    {
      "cell_type": "code",
      "metadata": {
        "id": "WrBdrzhh_mBc",
        "outputId": "e443ddd5-4087-4517-8ae2-dbee06abdc61",
        "colab": {
          "base_uri": "https://localhost:8080/",
          "height": 335
        }
      },
      "source": [
        "sns.stripplot(df['market_value'])\n",
        "sns.despine()"
      ],
      "execution_count": 42,
      "outputs": [
        {
          "output_type": "stream",
          "text": [
            "/usr/local/lib/python3.6/dist-packages/seaborn/_decorators.py:43: FutureWarning: Pass the following variable as a keyword arg: x. From version 0.12, the only valid positional argument will be `data`, and passing other arguments without an explicit keyword will result in an error or misinterpretation.\n",
            "  FutureWarning\n"
          ],
          "name": "stderr"
        },
        {
          "output_type": "display_data",
          "data": {
            "image/png": "[encoded data removed]",
            "text/plain": [
              "<Figure size 432x288 with 1 Axes>"
            ]
          },
          "metadata": {
            "tags": [],
            "needs_background": "light"
          }
        }
      ]
    },
    {
      "cell_type": "markdown",
      "metadata": {
        "id": "kLPz5JwbRTHE"
      },
      "source": [
        "- Very few player have value greater than 50."
      ]
    },
    {
      "cell_type": "code",
      "metadata": {
        "id": "QU1xhUCWrO9o"
      },
      "source": [
        ""
      ],
      "execution_count": 42,
      "outputs": []
    },
    {
      "cell_type": "markdown",
      "metadata": {
        "id": "wlJ6Cz_4nyog"
      },
      "source": [
        "Keeping inferences from the above plots we are going to perform the following tasks:\n",
        "1. Dropping the club_id as it is an representative of the feature club_name and hence exact same effect on the value of target.\n",
        "2. Also dropping the names as they don't do any help in predicting the target."
      ]
    },
    {
      "cell_type": "code",
      "metadata": {
        "id": "vxKQp8zvrcMc"
      },
      "source": [
        "df.drop(['name', 'club_id'], axis=1, inplace=True)"
      ],
      "execution_count": 43,
      "outputs": []
    },
    {
      "cell_type": "markdown",
      "metadata": {
        "id": "7hSOGn5GJVzN"
      },
      "source": [
        "Correlations"
      ]
    },
    {
      "cell_type": "code",
      "metadata": {
        "id": "5kCxYeiirQ30",
        "outputId": "addba232-23d0-460c-8cfe-e671e18cf1fe",
        "colab": {
          "base_uri": "https://localhost:8080/",
          "height": 363
        }
      },
      "source": [
        "corr_columns = ['age', 'page_views', 'fpl_value', 'fpl_sel', 'fpl_points', 'new_foreign', 'age_cat', 'big_club', 'new_signing', 'market_value']\n",
        "df[corr_columns].corr()"
      ],
      "execution_count": 44,
      "outputs": [
        {
          "output_type": "execute_result",
          "data": {
            "text/html": [
              "<div>\n",
              "<style scoped>\n",
              "    .dataframe tbody tr th:only-of-type {\n",
              "        vertical-align: middle;\n",
              "    }\n",
              "\n",
              "    .dataframe tbody tr th {\n",
              "        vertical-align: top;\n",
              "    }\n",
              "\n",
              "    .dataframe thead th {\n",
              "        text-align: right;\n",
              "    }\n",
              "</style>\n",
              "<table border=\"1\" class=\"dataframe\">\n",
              "  <thead>\n",
              "    <tr style=\"text-align: right;\">\n",
              "      <th></th>\n",
              "      <th>age</th>\n",
              "      <th>page_views</th>\n",
              "      <th>fpl_value</th>\n",
              "      <th>fpl_sel</th>\n",
              "      <th>fpl_points</th>\n",
              "      <th>new_foreign</th>\n",
              "      <th>age_cat</th>\n",
              "      <th>big_club</th>\n",
              "      <th>new_signing</th>\n",
              "      <th>market_value</th>\n",
              "    </tr>\n",
              "  </thead>\n",
              "  <tbody>\n",
              "    <tr>\n",
              "      <th>age</th>\n",
              "      <td>1.000000</td>\n",
              "      <td>-0.059073</td>\n",
              "      <td>-0.087018</td>\n",
              "      <td>-0.022295</td>\n",
              "      <td>0.166209</td>\n",
              "      <td>-0.107356</td>\n",
              "      <td>0.971547</td>\n",
              "      <td>-0.099114</td>\n",
              "      <td>-0.086188</td>\n",
              "      <td>-0.103423</td>\n",
              "    </tr>\n",
              "    <tr>\n",
              "      <th>page_views</th>\n",
              "      <td>-0.059073</td>\n",
              "      <td>1.000000</td>\n",
              "      <td>0.722653</td>\n",
              "      <td>0.535867</td>\n",
              "      <td>0.517213</td>\n",
              "      <td>-0.059545</td>\n",
              "      <td>-0.060901</td>\n",
              "      <td>0.508150</td>\n",
              "      <td>0.151979</td>\n",
              "      <td>0.745774</td>\n",
              "    </tr>\n",
              "    <tr>\n",
              "      <th>fpl_value</th>\n",
              "      <td>-0.087018</td>\n",
              "      <td>0.722653</td>\n",
              "      <td>1.000000</td>\n",
              "      <td>0.521055</td>\n",
              "      <td>0.655639</td>\n",
              "      <td>0.008653</td>\n",
              "      <td>-0.080407</td>\n",
              "      <td>0.401513</td>\n",
              "      <td>0.100738</td>\n",
              "      <td>0.776165</td>\n",
              "    </tr>\n",
              "    <tr>\n",
              "      <th>fpl_sel</th>\n",
              "      <td>-0.022295</td>\n",
              "      <td>0.535867</td>\n",
              "      <td>0.521055</td>\n",
              "      <td>1.000000</td>\n",
              "      <td>0.550353</td>\n",
              "      <td>0.022216</td>\n",
              "      <td>-0.038964</td>\n",
              "      <td>0.275198</td>\n",
              "      <td>-0.018096</td>\n",
              "      <td>0.566497</td>\n",
              "    </tr>\n",
              "    <tr>\n",
              "      <th>fpl_points</th>\n",
              "      <td>0.166209</td>\n",
              "      <td>0.517213</td>\n",
              "      <td>0.655639</td>\n",
              "      <td>0.550353</td>\n",
              "      <td>1.000000</td>\n",
              "      <td>-0.174639</td>\n",
              "      <td>0.148899</td>\n",
              "      <td>0.305620</td>\n",
              "      <td>0.077559</td>\n",
              "      <td>0.653440</td>\n",
              "    </tr>\n",
              "    <tr>\n",
              "      <th>new_foreign</th>\n",
              "      <td>-0.107356</td>\n",
              "      <td>-0.059545</td>\n",
              "      <td>0.008653</td>\n",
              "      <td>0.022216</td>\n",
              "      <td>-0.174639</td>\n",
              "      <td>1.000000</td>\n",
              "      <td>-0.098152</td>\n",
              "      <td>0.051000</td>\n",
              "      <td>-0.068948</td>\n",
              "      <td>0.016578</td>\n",
              "    </tr>\n",
              "    <tr>\n",
              "      <th>age_cat</th>\n",
              "      <td>0.971547</td>\n",
              "      <td>-0.060901</td>\n",
              "      <td>-0.080407</td>\n",
              "      <td>-0.038964</td>\n",
              "      <td>0.148899</td>\n",
              "      <td>-0.098152</td>\n",
              "      <td>1.000000</td>\n",
              "      <td>-0.095403</td>\n",
              "      <td>-0.073994</td>\n",
              "      <td>-0.097393</td>\n",
              "    </tr>\n",
              "    <tr>\n",
              "      <th>big_club</th>\n",
              "      <td>-0.099114</td>\n",
              "      <td>0.508150</td>\n",
              "      <td>0.401513</td>\n",
              "      <td>0.275198</td>\n",
              "      <td>0.305620</td>\n",
              "      <td>0.051000</td>\n",
              "      <td>-0.095403</td>\n",
              "      <td>1.000000</td>\n",
              "      <td>0.076350</td>\n",
              "      <td>0.575174</td>\n",
              "    </tr>\n",
              "    <tr>\n",
              "      <th>new_signing</th>\n",
              "      <td>-0.086188</td>\n",
              "      <td>0.151979</td>\n",
              "      <td>0.100738</td>\n",
              "      <td>-0.018096</td>\n",
              "      <td>0.077559</td>\n",
              "      <td>-0.068948</td>\n",
              "      <td>-0.073994</td>\n",
              "      <td>0.076350</td>\n",
              "      <td>1.000000</td>\n",
              "      <td>0.146487</td>\n",
              "    </tr>\n",
              "    <tr>\n",
              "      <th>market_value</th>\n",
              "      <td>-0.103423</td>\n",
              "      <td>0.745774</td>\n",
              "      <td>0.776165</td>\n",
              "      <td>0.566497</td>\n",
              "      <td>0.653440</td>\n",
              "      <td>0.016578</td>\n",
              "      <td>-0.097393</td>\n",
              "      <td>0.575174</td>\n",
              "      <td>0.146487</td>\n",
              "      <td>1.000000</td>\n",
              "    </tr>\n",
              "  </tbody>\n",
              "</table>\n",
              "</div>"
            ],
            "text/plain": [
              "                   age  page_views  ...  new_signing  market_value\n",
              "age           1.000000   -0.059073  ...    -0.086188     -0.103423\n",
              "page_views   -0.059073    1.000000  ...     0.151979      0.745774\n",
              "fpl_value    -0.087018    0.722653  ...     0.100738      0.776165\n",
              "fpl_sel      -0.022295    0.535867  ...    -0.018096      0.566497\n",
              "fpl_points    0.166209    0.517213  ...     0.077559      0.653440\n",
              "new_foreign  -0.107356   -0.059545  ...    -0.068948      0.016578\n",
              "age_cat       0.971547   -0.060901  ...    -0.073994     -0.097393\n",
              "big_club     -0.099114    0.508150  ...     0.076350      0.575174\n",
              "new_signing  -0.086188    0.151979  ...     1.000000      0.146487\n",
              "market_value -0.103423    0.745774  ...     0.146487      1.000000\n",
              "\n",
              "[10 rows x 10 columns]"
            ]
          },
          "metadata": {
            "tags": []
          },
          "execution_count": 44
        }
      ]
    },
    {
      "cell_type": "code",
      "metadata": {
        "id": "tBgB065lu16a",
        "outputId": "c9d2718a-55e4-4571-d167-8de61daf3734",
        "colab": {
          "base_uri": "https://localhost:8080/",
          "height": 544
        }
      },
      "source": [
        "plt.figure(figsize=(8,8))\n",
        "sns.heatmap(df[corr_columns].corr(),annot=True)\n",
        "sns.despine()"
      ],
      "execution_count": 45,
      "outputs": [
        {
          "output_type": "display_data",
          "data": {
            "image/png": "[encoded data removed]",
            "text/plain": [
              "<Figure size 576x576 with 2 Axes>"
            ]
          },
          "metadata": {
            "tags": [],
            "needs_background": "light"
          }
        }
      ]
    },
    {
      "cell_type": "markdown",
      "metadata": {
        "id": "_jvtYwl40_5C"
      },
      "source": [
        "* Dropping age_cat because of high correlation with age, also age_cat is the \n",
        "categorized feature for age.  ( PENDING DROP)\n",
        "* Features with high correlation with market_value -\n",
        "    * page_views\n",
        "    * fpl_value\n",
        "    * fpl_points.\n",
        "* Features with very low correlation with market_value -\n",
        "    * new_foreign.\n"
      ]
    },
    {
      "cell_type": "markdown",
      "metadata": {
        "id": "uWFQxkXjRWzl"
      },
      "source": [
        "<h3>(b) Bivariate Analysis</h3>"
      ]
    },
    {
      "cell_type": "markdown",
      "metadata": {
        "id": "YyFeOaV93DWE"
      },
      "source": [
        "1. market_value and page_views"
      ]
    },
    {
      "cell_type": "code",
      "metadata": {
        "id": "OomLKUqW0_Du",
        "outputId": "3ca59ab8-e489-4b59-c709-7cf7e80f1a69",
        "colab": {
          "base_uri": "https://localhost:8080/",
          "height": 299
        }
      },
      "source": [
        "sns.regplot(x='page_views', y='market_value', data=df,scatter_kws={'alpha':0.3})"
      ],
      "execution_count": 46,
      "outputs": [
        {
          "output_type": "execute_result",
          "data": {
            "text/plain": [
              "<matplotlib.axes._subplots.AxesSubplot at 0x7fda6fa31fd0>"
            ]
          },
          "metadata": {
            "tags": []
          },
          "execution_count": 46
        },
        {
          "output_type": "display_data",
          "data": {
            "image/png": "[encoded data removed]",
            "text/plain": [
              "<Figure size 432x288 with 1 Axes>"
            ]
          },
          "metadata": {
            "tags": [],
            "needs_background": "light"
          }
        }
      ]
    },
    {
      "cell_type": "markdown",
      "metadata": {
        "id": "dMzxRA5u4fWd"
      },
      "source": [
        "2. market_value and fpl_value"
      ]
    },
    {
      "cell_type": "code",
      "metadata": {
        "id": "NuFHY23o3seW",
        "outputId": "6fbe0f0b-0948-41d0-cf10-5b9526e8983e",
        "colab": {
          "base_uri": "https://localhost:8080/",
          "height": 297
        }
      },
      "source": [
        "sns.regplot(x='fpl_value', y='market_value', data=df,scatter_kws={'alpha':0.3})"
      ],
      "execution_count": 47,
      "outputs": [
        {
          "output_type": "execute_result",
          "data": {
            "text/plain": [
              "<matplotlib.axes._subplots.AxesSubplot at 0x7fda6fb80da0>"
            ]
          },
          "metadata": {
            "tags": []
          },
          "execution_count": 47
        },
        {
          "output_type": "display_data",
          "data": {
            "image/png": "[encoded data removed]",
            "text/plain": [
              "<Figure size 432x288 with 1 Axes>"
            ]
          },
          "metadata": {
            "tags": [],
            "needs_background": "light"
          }
        }
      ]
    },
    {
      "cell_type": "markdown",
      "metadata": {
        "id": "8zaK9F1hJgPH"
      },
      "source": [
        "Changing categorical features by one hot encoding"
      ]
    }
  ]
}